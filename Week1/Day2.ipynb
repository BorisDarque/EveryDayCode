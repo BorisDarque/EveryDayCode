{
 "cells": [
  {
   "cell_type": "code",
   "execution_count": 2,
   "metadata": {},
   "outputs": [
    {
     "data": {
      "text/plain": [
       "{0: 5, 1: 10, 2: 11}"
      ]
     },
     "execution_count": 2,
     "metadata": {},
     "output_type": "execute_result"
    }
   ],
   "source": [
    "dct={0:5,1:10,2:11}\n",
    "dct"
   ]
  },
  {
   "cell_type": "code",
   "execution_count": 7,
   "metadata": {},
   "outputs": [
    {
     "name": "stdout",
     "output_type": "stream",
     "text": [
      "5\n",
      "10\n",
      "11\n"
     ]
    }
   ],
   "source": [
    "for value in dct.values():\n",
    "    print(value)"
   ]
  },
  {
   "cell_type": "code",
   "execution_count": 9,
   "metadata": {},
   "outputs": [
    {
     "data": {
      "text/plain": [
       "8.666666666666666"
      ]
     },
     "execution_count": 9,
     "metadata": {},
     "output_type": "execute_result"
    }
   ],
   "source": [
    "s=0\n",
    "k=0\n",
    "for value in dct.values():\n",
    "    s+=value\n",
    "    k+=1\n",
    "s/k"
   ]
  },
  {
   "cell_type": "code",
   "execution_count": 3,
   "metadata": {},
   "outputs": [
    {
     "data": {
      "text/plain": [
       "8.666666666666666"
      ]
     },
     "execution_count": 3,
     "metadata": {},
     "output_type": "execute_result"
    }
   ],
   "source": [
    "sum(dct.values())/len(dct.values())"
   ]
  },
  {
   "cell_type": "code",
   "execution_count": 4,
   "metadata": {},
   "outputs": [],
   "source": [
    "sum=4"
   ]
  },
  {
   "cell_type": "code",
   "execution_count": 6,
   "metadata": {},
   "outputs": [
    {
     "ename": "TypeError",
     "evalue": "'int' object is not callable",
     "output_type": "error",
     "traceback": [
      "\u001b[1;31m---------------------------------------------------------------------------\u001b[0m",
      "\u001b[1;31mTypeError\u001b[0m                                 Traceback (most recent call last)",
      "\u001b[1;32m<ipython-input-6-ea23b831fb46>\u001b[0m in \u001b[0;36m<module>\u001b[1;34m\u001b[0m\n\u001b[1;32m----> 1\u001b[1;33m \u001b[0msum\u001b[0m\u001b[1;33m(\u001b[0m\u001b[1;33m[\u001b[0m\u001b[1;36m0\u001b[0m\u001b[1;33m,\u001b[0m\u001b[1;36m1\u001b[0m\u001b[1;33m,\u001b[0m\u001b[1;36m2\u001b[0m\u001b[1;33m]\u001b[0m\u001b[1;33m)\u001b[0m\u001b[1;33m\u001b[0m\u001b[1;33m\u001b[0m\u001b[0m\n\u001b[0m",
      "\u001b[1;31mTypeError\u001b[0m: 'int' object is not callable"
     ]
    }
   ],
   "source": [
    "sum([0,1,2])"
   ]
  },
  {
   "cell_type": "code",
   "execution_count": 2,
   "metadata": {},
   "outputs": [
    {
     "name": "stdout",
     "output_type": "stream",
     "text": [
      "How much minutes it should cook?60\n"
     ]
    }
   ],
   "source": []
  },
  {
   "cell_type": "code",
   "execution_count": 3,
   "metadata": {},
   "outputs": [
    {
     "data": {
      "text/plain": [
       "str"
      ]
     },
     "execution_count": 3,
     "metadata": {},
     "output_type": "execute_result"
    }
   ],
   "source": [
    "type(time_needed)"
   ]
  },
  {
   "cell_type": "code",
   "execution_count": 4,
   "metadata": {},
   "outputs": [],
   "source": [
    "time_needed=int(time_needed)"
   ]
  },
  {
   "cell_type": "code",
   "execution_count": 5,
   "metadata": {},
   "outputs": [
    {
     "data": {
      "text/plain": [
       "int"
      ]
     },
     "execution_count": 5,
     "metadata": {},
     "output_type": "execute_result"
    }
   ],
   "source": [
    "type(time_needed)"
   ]
  },
  {
   "cell_type": "code",
   "execution_count": 9,
   "metadata": {},
   "outputs": [],
   "source": []
  },
  {
   "cell_type": "code",
   "execution_count": 7,
   "metadata": {},
   "outputs": [],
   "source": []
  },
  {
   "cell_type": "code",
   "execution_count": 15,
   "metadata": {},
   "outputs": [
    {
     "name": "stdout",
     "output_type": "stream",
     "text": [
      "How much minutes it should cook?200\n",
      "Cake is in the oven\n",
      "Cake is not done yet! Go ahead you little girl\n",
      "Cake is not done yet! Go ahead you little girl\n",
      "Cake is not done yet! Go ahead you little girl\n",
      "Cake is not done yet! Go ahead you little girl\n",
      "Cake is not done yet! Go ahead you little girl\n",
      "Cake is not done yet! Go ahead you little girl\n",
      "Cake is not done yet! Go ahead you little girl\n",
      "Cake is not done yet! Go ahead you little girl\n",
      "Cake is not done yet! Go ahead you little girl\n",
      "Cake is not done yet! Go ahead you little girl\n",
      "Cake is not done yet! Go ahead you little girl\n",
      "Cake is not done yet! Go ahead you little girl\n",
      "Cake is not done yet! Go ahead you little girl\n",
      "Cake is not done yet! Go ahead you little girl\n",
      "Cake is not done yet! Go ahead you little girl\n",
      "Cake is not done yet! Go ahead you little girl\n",
      "Cake is not done yet! Go ahead you little girl\n",
      "Cake is not done yet! Go ahead you little girl\n",
      "Cake is not done yet! Go ahead you little girl\n",
      "Cake is not done yet! Go ahead you little girl\n",
      "Cake is not done yet! Go ahead you little girl\n",
      "Cake is not done yet! Go ahead you little girl\n",
      "Cake is not done yet! Go ahead you little girl\n",
      "Cake is not done yet! Go ahead you little girl\n",
      "Cake is not done yet! Go ahead you little girl\n",
      "Cake is not done yet! Go ahead you little girl\n",
      "Cake is not done yet! Go ahead you little girl\n",
      "Cake is not done yet! Go ahead you little girl\n",
      "Cake is not done yet! Go ahead you little girl\n",
      "Cake is not done yet! Go ahead you little girl\n",
      "Cake is not done yet! Go ahead you little girl\n",
      "Cake is not done yet! Go ahead you little girl\n",
      "Cake is not done yet! Go ahead you little girl\n",
      "Cake is not done yet! Go ahead you little girl\n",
      "Cake is not done yet! Go ahead you little girl\n",
      "Cake is not done yet! Go ahead you little girl\n",
      "Cake is not done yet! Go ahead you little girl\n",
      "Cake is not done yet! Go ahead you little girl\n",
      "Cake is not done yet! Go ahead you little girl\n",
      "Cake is not done yet! Go ahead you little girl\n",
      "Cake is not done yet! Go ahead you little girl\n",
      "Cake is not done yet! Go ahead you little girl\n",
      "Cake is not done yet! Go ahead you little girl\n",
      "Cake is not done yet! Go ahead you little girl\n",
      "Cake is not done yet! Go ahead you little girl\n",
      "Cake is not done yet! Go ahead you little girl\n",
      "Cake is not done yet! Go ahead you little girl\n",
      "Cake is not done yet! Go ahead you little girl\n",
      "Cake is not done yet! Go ahead you little girl\n",
      "Cake is not done yet! Go ahead you little girl\n",
      "Cake is not done yet! Go ahead you little girl\n",
      "Cake is not done yet! Go ahead you little girl\n",
      "Cake is not done yet! Go ahead you little girl\n",
      "Cake is not done yet! Go ahead you little girl\n",
      "Cake is not done yet! Go ahead you little girl\n",
      "Cake is not done yet! Go ahead you little girl\n",
      "Cake is not done yet! Go ahead you little girl\n",
      "Cake is not done yet! Go ahead you little girl\n",
      "Cake is not done yet! Go ahead you little girl\n",
      "Cake is not done yet! Go ahead you little girl\n",
      "Cake is not done yet! Go ahead you little girl\n",
      "Cake is not done yet! Go ahead you little girl\n",
      "Cake is not done yet! Go ahead you little girl\n",
      "Cake is not done yet! Go ahead you little girl\n",
      "Cake is not done yet! Go ahead you little girl\n",
      "Cake is not done yet! Go ahead you little girl\n",
      "Cake is not done yet! Go ahead you little girl\n",
      "Cake is not done yet! Go ahead you little girl\n",
      "Cake is not done yet! Go ahead you little girl\n",
      "Cake is not done yet! Go ahead you little girl\n",
      "Cake is not done yet! Go ahead you little girl\n",
      "Cake is not done yet! Go ahead you little girl\n",
      "Cake is not done yet! Go ahead you little girl\n",
      "Cake is not done yet! Go ahead you little girl\n",
      "Cake is not done yet! Go ahead you little girl\n",
      "Cake is not done yet! Go ahead you little girl\n",
      "Cake is not done yet! Go ahead you little girl\n",
      "Cake is not done yet! Go ahead you little girl\n",
      "Cake is not done yet! Go ahead you little girl\n",
      "Cake is not done yet! Go ahead you little girl\n",
      "Cake is not done yet! Go ahead you little girl\n",
      "Cake is not done yet! Go ahead you little girl\n",
      "Cake is not done yet! Go ahead you little girl\n",
      "Cake is not done yet! Go ahead you little girl\n",
      "Cake is not done yet! Go ahead you little girl\n",
      "Cake is not done yet! Go ahead you little girl\n",
      "Cake is not done yet! Go ahead you little girl\n",
      "Cake is not done yet! Go ahead you little girl\n",
      "Cake is not done yet! Go ahead you little girl\n",
      "Cake is not done yet! Go ahead you little girl\n",
      "Cake is not done yet! Go ahead you little girl\n",
      "Cake is not done yet! Go ahead you little girl\n",
      "Cake is not done yet! Go ahead you little girl\n",
      "Cake is not done yet! Go ahead you little girl\n",
      "Cake is not done yet! Go ahead you little girl\n",
      "Cake is not done yet! Go ahead you little girl\n",
      "Cake is not done yet! Go ahead you little girl\n",
      "Cake is not done yet! Go ahead you little girl\n",
      "Cake is not done yet! Go ahead you little girl\n",
      "Cake is not done yet! Go ahead you little girl\n",
      "Come here little lady, I have a cake for ya\n"
     ]
    }
   ],
   "source": [
    "minutes_passed=1\n",
    "total_time=0\n",
    "time_needed=input('How much minutes it should cook?')\n",
    "time_needed=int(time_needed)\n",
    "\n",
    "print('Cake is in the oven')\n",
    "total_time+=minutes_passed\n",
    "\n",
    "i=0\n",
    "while (i<100) & (total_time<time_needed):\n",
    "    i+=1\n",
    "    print('Cake is not done yet! Go ahead you little girl')\n",
    "    total_time+=minutes_passed\n",
    "    \n",
    "\n",
    "print('Come here little lady, I have a cake for ya')"
   ]
  },
  {
   "cell_type": "code",
   "execution_count": 16,
   "metadata": {},
   "outputs": [
    {
     "data": {
      "text/plain": [
       "100"
      ]
     },
     "execution_count": 16,
     "metadata": {},
     "output_type": "execute_result"
    }
   ],
   "source": [
    "#calculation of the sum of the values of the dictionary\n",
    "sum(dct.values())"
   ]
  },
  {
   "cell_type": "markdown",
   "metadata": {},
   "source": [
    "# Phylosophy of Coding"
   ]
  },
  {
   "cell_type": "markdown",
   "metadata": {},
   "source": [
    "Today we are going to discuss phylosophy behind being data analyst ad learn how to debug stuff"
   ]
  },
  {
   "cell_type": "markdown",
   "metadata": {},
   "source": [
    "1. Computer is never wrong\n",
    "2. Calm down\n",
    "3. Just start\n",
    "4. Big Brother is watching you\n",
    "5. Read books\n",
    "6. Know the tool you use\n",
    "7. No one is perfect\n",
    "8. Enjoy your free time"
   ]
  },
  {
   "cell_type": "code",
   "execution_count": 18,
   "metadata": {},
   "outputs": [
    {
     "name": "stdout",
     "output_type": "stream",
     "text": [
      "The Zen of Python, by Tim Peters\n",
      "\n",
      "Beautiful is better than ugly.\n",
      "Explicit is better than implicit.\n",
      "Simple is better than complex.\n",
      "Complex is better than complicated.\n",
      "Flat is better than nested.\n",
      "Sparse is better than dense.\n",
      "Readability counts.\n",
      "Special cases aren't special enough to break the rules.\n",
      "Although practicality beats purity.\n",
      "Errors should never pass silently.\n",
      "Unless explicitly silenced.\n",
      "In the face of ambiguity, refuse the temptation to guess.\n",
      "There should be one-- and preferably only one --obvious way to do it.\n",
      "Although that way may not be obvious at first unless you're Dutch.\n",
      "Now is better than never.\n",
      "Although never is often better than *right* now.\n",
      "If the implementation is hard to explain, it's a bad idea.\n",
      "If the implementation is easy to explain, it may be a good idea.\n",
      "Namespaces are one honking great idea -- let's do more of those!\n"
     ]
    }
   ],
   "source": [
    "import this"
   ]
  },
  {
   "cell_type": "code",
   "execution_count": null,
   "metadata": {},
   "outputs": [],
   "source": [
    "\n",
    "\n",
    "\n"
   ]
  },
  {
   "cell_type": "code",
   "execution_count": null,
   "metadata": {},
   "outputs": [],
   "source": []
  },
  {
   "cell_type": "code",
   "execution_count": null,
   "metadata": {},
   "outputs": [],
   "source": []
  },
  {
   "cell_type": "markdown",
   "metadata": {},
   "source": [
    "# List Comprehensions"
   ]
  },
  {
   "cell_type": "code",
   "execution_count": 19,
   "metadata": {},
   "outputs": [],
   "source": [
    "lst=[0,1,2,3,4,5,6,7,8,9]"
   ]
  },
  {
   "cell_type": "code",
   "execution_count": 20,
   "metadata": {},
   "outputs": [
    {
     "data": {
      "text/plain": [
       "[0, 1, 2, 3, 4, 5, 6, 7, 8, 9]"
      ]
     },
     "execution_count": 20,
     "metadata": {},
     "output_type": "execute_result"
    }
   ],
   "source": [
    "lst2=[]\n",
    "for i in range(10):\n",
    "    lst2.append(i)\n",
    "lst2"
   ]
  },
  {
   "cell_type": "code",
   "execution_count": 24,
   "metadata": {},
   "outputs": [
    {
     "name": "stdout",
     "output_type": "stream",
     "text": [
      "0\n",
      "1\n",
      "2\n",
      "3\n",
      "4\n",
      "5\n",
      "6\n",
      "7\n",
      "8\n",
      "9\n"
     ]
    }
   ],
   "source": [
    "lst3=(i for i in range(10))\n",
    "for i in lst3:\n",
    "    print(i)"
   ]
  },
  {
   "cell_type": "code",
   "execution_count": 29,
   "metadata": {},
   "outputs": [
    {
     "data": {
      "text/plain": [
       "[0, 1, 2, 3, 4, 5, 6, 7, 8, 9]"
      ]
     },
     "execution_count": 29,
     "metadata": {},
     "output_type": "execute_result"
    }
   ],
   "source": [
    "lst3=[i for i in range(10)]\n",
    "lst3\n",
    "lst=[]\n",
    "for i in range(10):\n",
    "    lst.append(i)"
   ]
  },
  {
   "cell_type": "code",
   "execution_count": 37,
   "metadata": {},
   "outputs": [
    {
     "name": "stdout",
     "output_type": "stream",
     "text": [
      "['yes', 'yes', 'yes', 'yes']\n",
      "yes\n",
      "yes\n",
      "yes\n",
      "yes\n"
     ]
    }
   ],
   "source": [
    "x=1\n",
    "\n",
    "print(['yes' for i in range(4) if x>0])\n",
    "\n",
    "for i in range(4):\n",
    "    if x>0:\n",
    "        print('yes')"
   ]
  },
  {
   "cell_type": "code",
   "execution_count": 38,
   "metadata": {},
   "outputs": [
    {
     "data": {
      "text/plain": [
       "[1, 2, 3, 'yes', 'no', 1, 2, 3, 4]"
      ]
     },
     "execution_count": 38,
     "metadata": {},
     "output_type": "execute_result"
    }
   ],
   "source": [
    "lst_lst=[[1,2,3],['yes','no'],[1,2,3,4]]\n",
    "q=[]\n",
    "for i in lst_lst:\n",
    "    for j in i:\n",
    "        q.append(j)\n",
    "q"
   ]
  },
  {
   "cell_type": "code",
   "execution_count": 41,
   "metadata": {},
   "outputs": [
    {
     "data": {
      "text/plain": [
       "[1, 2, 3, 'yes', 'no', 1, 2, 3, 4]"
      ]
     },
     "execution_count": 41,
     "metadata": {},
     "output_type": "execute_result"
    }
   ],
   "source": [
    "q=[j for i in lst_lst for j in i]\n",
    "q"
   ]
  },
  {
   "cell_type": "code",
   "execution_count": 45,
   "metadata": {},
   "outputs": [
    {
     "data": {
      "text/plain": [
       "[1, 1, 1, 2, 2, 2, 3, 3, 3, 4, 4, 4]"
      ]
     },
     "execution_count": 45,
     "metadata": {},
     "output_type": "execute_result"
    }
   ],
   "source": [
    "#INCORRECT!!!\n",
    "q=[j  for j in i for i in lst_lst]\n",
    "q"
   ]
  },
  {
   "cell_type": "code",
   "execution_count": 47,
   "metadata": {},
   "outputs": [
    {
     "name": "stdout",
     "output_type": "stream",
     "text": [
      "[1, 2, 3, 4]\n"
     ]
    }
   ],
   "source": [
    "q=[]\n",
    "for i in lst_lst:\n",
    "    if len(i)>3:\n",
    "        for j in i:\n",
    "            q.append(j)\n",
    "print(q)"
   ]
  },
  {
   "cell_type": "code",
   "execution_count": 52,
   "metadata": {},
   "outputs": [
    {
     "data": {
      "text/plain": [
       "[1, 2, 3, 4]"
      ]
     },
     "execution_count": 52,
     "metadata": {},
     "output_type": "execute_result"
    }
   ],
   "source": [
    "q=[j for i in lst_lst if len(i)>3 for j in i]\n",
    "q"
   ]
  },
  {
   "cell_type": "code",
   "execution_count": 54,
   "metadata": {},
   "outputs": [
    {
     "name": "stdout",
     "output_type": "stream",
     "text": [
      "[2, 3, 4, 'yes', 'no', 1, 4, 9, 16]\n"
     ]
    }
   ],
   "source": [
    "q=[]\n",
    "for i in lst_lst:\n",
    "    if len(i)==3:\n",
    "        for v in i:\n",
    "            q.append(v+1)\n",
    "    elif len(i)==4:\n",
    "        for v in i:\n",
    "            q.append(v**2)\n",
    "    else:\n",
    "        for v in i:\n",
    "            q.append(v)\n",
    "print(q)"
   ]
  },
  {
   "cell_type": "code",
   "execution_count": 55,
   "metadata": {},
   "outputs": [
    {
     "data": {
      "text/plain": [
       "[[1, 2, 3], ['yes', 'no'], [1, 2, 3, 4]]"
      ]
     },
     "execution_count": 55,
     "metadata": {},
     "output_type": "execute_result"
    }
   ],
   "source": [
    "lst_lst"
   ]
  },
  {
   "cell_type": "code",
   "execution_count": 56,
   "metadata": {},
   "outputs": [
    {
     "data": {
      "text/plain": [
       "[2, 3, 4, 'yes', 'no', 1, 4, 9, 16]"
      ]
     },
     "execution_count": 56,
     "metadata": {},
     "output_type": "execute_result"
    }
   ],
   "source": [
    "q=[v+1 if len(i)==3 else v**2 if len(i)==4 else v for i in lst_lst for v in i]\n",
    "q"
   ]
  },
  {
   "cell_type": "code",
   "execution_count": 57,
   "metadata": {},
   "outputs": [
    {
     "ename": "SyntaxError",
     "evalue": "invalid syntax (<ipython-input-57-9ec32afdbef1>, line 1)",
     "output_type": "error",
     "traceback": [
      "\u001b[1;36m  File \u001b[1;32m\"<ipython-input-57-9ec32afdbef1>\"\u001b[1;36m, line \u001b[1;32m1\u001b[0m\n\u001b[1;33m    [v+1 for i in lst_lst if len(i)==3 for v in i else v**2 for i in lst_lst if len(i)==4 for v in i else v for i in lst_lst for v in i]\u001b[0m\n\u001b[1;37m                                                     ^\u001b[0m\n\u001b[1;31mSyntaxError\u001b[0m\u001b[1;31m:\u001b[0m invalid syntax\n"
     ]
    }
   ],
   "source": [
    "[v+1 for i in lst_lst if len(i)==3 for v in i else v**2 for i in lst_lst if len(i)==4 for v in i else v for i in lst_lst for v in i]"
   ]
  },
  {
   "cell_type": "code",
   "execution_count": 58,
   "metadata": {},
   "outputs": [
    {
     "data": {
      "text/plain": [
       "[[1, 2, 3], ['yes', 'no'], [1, 2, 3, 4]]"
      ]
     },
     "execution_count": 58,
     "metadata": {},
     "output_type": "execute_result"
    }
   ],
   "source": [
    "lst_lst"
   ]
  },
  {
   "cell_type": "markdown",
   "metadata": {},
   "source": [
    "Create a list that contains the following:\n",
    "+ The numbers should be divided by 2\n",
    "+ The output should be natural (not float)\n",
    "+ Create a rule for text so it is convetred into number that can be divided by 2 using the rules above"
   ]
  },
  {
   "cell_type": "code",
   "execution_count": 70,
   "metadata": {},
   "outputs": [
    {
     "data": {
      "text/plain": [
       "[0, 1.0, 1, 4, 4, 0, 1.0, 1, 2.0]"
      ]
     },
     "execution_count": 70,
     "metadata": {},
     "output_type": "execute_result"
    }
   ],
   "source": [
    "q=[]\n",
    "for i in lst_lst:\n",
    "    if len(i)>2:\n",
    "        for k in i:\n",
    "            if k%2==0:\n",
    "                q.append(k/2)\n",
    "            else:\n",
    "                q.append(k//2)\n",
    "    else:\n",
    "        for v in i:\n",
    "            q.append(4)\n",
    "q"
   ]
  },
  {
   "cell_type": "code",
   "execution_count": 72,
   "metadata": {},
   "outputs": [
    {
     "data": {
      "text/plain": [
       "[0, 1.0, 1, 4, 4, 0, 1.0, 1, 2.0]"
      ]
     },
     "execution_count": 72,
     "metadata": {},
     "output_type": "execute_result"
    }
   ],
   "source": [
    "[k/2 if (len(i)>2) and (k%2==0) else k//2 if (len(i)>2) and (k%2!=0) else 4 for i in lst_lst for k in i]"
   ]
  },
  {
   "cell_type": "code",
   "execution_count": 73,
   "metadata": {},
   "outputs": [
    {
     "data": {
      "text/plain": [
       "[0, 1, 1, 3, 2, 0, 1, 1, 2]"
      ]
     },
     "execution_count": 73,
     "metadata": {},
     "output_type": "execute_result"
    }
   ],
   "source": [
    "[len(k) if type(k)==str else k//2 for i in lst_lst for k in i]"
   ]
  },
  {
   "cell_type": "code",
   "execution_count": 79,
   "metadata": {},
   "outputs": [
    {
     "data": {
      "text/plain": [
       "[1, 1, 2, 2, 1, 1, 1, 2, 2]"
      ]
     },
     "execution_count": 79,
     "metadata": {},
     "output_type": "execute_result"
    }
   ],
   "source": [
    "q=[]\n",
    "for i in lst_lst:\n",
    "    for k in i:\n",
    "        if type(k)==str:\n",
    "            q.append((len(k)+1)//2)\n",
    "        else:\n",
    "            q.append((k+1)//2)\n",
    "q"
   ]
  },
  {
   "cell_type": "code",
   "execution_count": 80,
   "metadata": {},
   "outputs": [],
   "source": [
    "import os"
   ]
  },
  {
   "cell_type": "code",
   "execution_count": 83,
   "metadata": {},
   "outputs": [],
   "source": [
    "os.chdir('C:/Users/eldiy/Documents/GitHub/data-labs/module-1/lab-list-comprehensions/your-code')"
   ]
  },
  {
   "cell_type": "code",
   "execution_count": 97,
   "metadata": {},
   "outputs": [
    {
     "data": {
      "text/plain": [
       "['sample_file_0.txt',\n",
       " 'sample_file_1.txt',\n",
       " 'sample_file_2.txt',\n",
       " 'sample_file_3.txt',\n",
       " 'sample_file_4.txt',\n",
       " 'sample_file_5.txt',\n",
       " 'sample_file_6.txt',\n",
       " 'sample_file_7.txt',\n",
       " 'sample_file_8.txt',\n",
       " 'sample_file_9.txt']"
      ]
     },
     "execution_count": 97,
     "metadata": {},
     "output_type": "execute_result"
    }
   ],
   "source": [
    "[i for i in os.listdir('C:/Users/eldiy/Documents/GitHub/data-labs/module-1/lab-list-comprehensions/data') if i.endswith('txt')]\n"
   ]
  }
 ],
 "metadata": {
  "kernelspec": {
   "display_name": "Python 3",
   "language": "python",
   "name": "python3"
  },
  "language_info": {
   "codemirror_mode": {
    "name": "ipython",
    "version": 3
   },
   "file_extension": ".py",
   "mimetype": "text/x-python",
   "name": "python",
   "nbconvert_exporter": "python",
   "pygments_lexer": "ipython3",
   "version": "3.6.8"
  }
 },
 "nbformat": 4,
 "nbformat_minor": 2
}
